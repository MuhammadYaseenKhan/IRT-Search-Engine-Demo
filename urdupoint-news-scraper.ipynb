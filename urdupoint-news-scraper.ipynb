{
 "cells": [
  {
   "cell_type": "markdown",
   "metadata": {},
   "source": [
    "# Importing related libraries"
   ]
  },
  {
   "cell_type": "code",
   "execution_count": 3,
   "metadata": {},
   "outputs": [],
   "source": [
    "import json\n",
    "import requests\n",
    "from bs4 import BeautifulSoup"
   ]
  },
  {
   "cell_type": "markdown",
   "metadata": {},
   "source": [
    "# Stage 1: Scraping news links"
   ]
  },
  {
   "cell_type": "markdown",
   "metadata": {},
   "source": [
    "### Variables"
   ]
  },
  {
   "cell_type": "code",
   "execution_count": null,
   "metadata": {},
   "outputs": [],
   "source": [
    "info = list() # an empty list for carrying individual dictionaries of news items"
   ]
  },
  {
   "cell_type": "markdown",
   "metadata": {},
   "source": [
    "### Main scraping script"
   ]
  },
  {
   "cell_type": "code",
   "execution_count": null,
   "metadata": {},
   "outputs": [],
   "source": [
    "for page_no in range(1,51):\n",
    "    \n",
    "    # making URL string with page numbers\n",
    "    url = 'https://www.urdupoint.com/daily/live/important-page' + str(page_no) + '.html'\n",
    "    \n",
    "    # hitting/requesting URL\n",
    "    response = requests.post(url)\n",
    "    \n",
    "    # validating the success of URL \n",
    "    if response.status_code == 200:\n",
    "        \n",
    "        # parsing the content\n",
    "        soup = BeautifulSoup(response.text, 'html.parser')\n",
    "        \n",
    "        # finding/extracting the region/HTML tag of interest\n",
    "        ul = soup.find('ul', class_='list_item_wrap')\n",
    "        \n",
    "        # drilling down to the individual list item inside the region of interest\n",
    "        li = ul.find_all('li', class_='item_shadow')\n",
    "        \n",
    "        # getting relevant anchors (links), titles, and short descriptions; keeping them in dictionary\n",
    "        for i,item in enumerate(li):\n",
    "            temp = dict()\n",
    "            temp['url'] = item.find('a')['href'].strip()\n",
    "            temp['title'] = item.find('h3').text.strip()\n",
    "            temp['desc'] = item.find('p').text.strip()\n",
    "            \n",
    "            # appending dictionary in main list\n",
    "            info.append(temp) "
   ]
  },
  {
   "cell_type": "code",
   "execution_count": 28,
   "metadata": {},
   "outputs": [
    {
     "name": "stdout",
     "output_type": "stream",
     "text": [
      "1000\n"
     ]
    }
   ],
   "source": [
    "print(len(info))"
   ]
  },
  {
   "cell_type": "markdown",
   "metadata": {},
   "source": [
    "### Saving information in JSON file/format"
   ]
  },
  {
   "cell_type": "code",
   "execution_count": 35,
   "metadata": {},
   "outputs": [],
   "source": [
    "with open('scraped-news.json', 'w', encoding='utf-8') as file:\n",
    "    json.dump(info, file, ensure_ascii=False)"
   ]
  },
  {
   "cell_type": "markdown",
   "metadata": {},
   "source": [
    "# Stage 2: Scraping news details"
   ]
  },
  {
   "cell_type": "markdown",
   "metadata": {},
   "source": [
    "### Reading JSON file"
   ]
  },
  {
   "cell_type": "code",
   "execution_count": 4,
   "metadata": {},
   "outputs": [
    {
     "name": "stdout",
     "output_type": "stream",
     "text": [
      "1000\n",
      "{'url': 'https://www.urdupoint.com/daily/livenews/2021-11-06/news-2952365.html', 'title': 'ملک میں سونے کی مجوعی قیمت میں5201 روپے کا بڑا اضافہ ہوگیا', 'desc': 'سونے کی فی تولہ نئی قیمت ایک لاکھ 23 ہزار روپے ہوگئی، جبکہ 10گرام سونے کی نئی قیمت ایک لاکھ 5 ہزار 453 روپے ہوچکی ہے۔ سندھ صرافہ بازار ایسوسی ایشن', 'detail': 'کراچی (اردوپوائنٹ اخبارتازہ ترین۔ 06 نومبر2021ء) عالمی مارکیٹ میں سونے کی فی تولہ قیمتوں میں اتارچڑھاؤ کا سلسلہ جاری ہے، جس کے باعث پاکستان میں بھی سونے کی قیمت میں بڑا ردوبدل دیکھا گیا ہے، ملک میں سونے کی مجموعی قیمت 5 ہزار201 روپے مہنگی ہوگئی، فی تولہ قیمت میں 2800 روپے اور 10 گرام سونے کی قیمت میں2401 روپے اضافہ ہوگیا ہے۔ سندھ صرافہ بازار ایسوسی ایشن کے مطابق عالمی مارکیٹ میں سونے کی قیمت میں یکدم بڑا اضافہ ہوا ہے۔(جاری ہے)   عالمی صرافہ بازار میں سونے کی قدر 26 امریکی ڈالر اضافے سے 1818 ڈالر فی اونس پر پہنچ گئی ہے۔ عالمی مارکیٹ میں سونے کی قیمت بڑھنے سے پاکستان میں سونے کی فی تولہ قیمت میں 2 ہزار 800 روپے کا اضافہ ہوا، جس کے بعد سونے کی فی تولہ نئی قیمت ایک لاکھ 23 ہزار روپے ہوگئی ہے، اسی طرح 10 گرام سونے کی قیمت 2 ہزار401 روپے اضافے کے بعد نئی قیمت ایک لاکھ 5 ہزار 453 روپے ہوگئی ہے۔ سونے کی قیمتوں میں ردوبدل کے بعد اب کراچی، حیدرآباد، سکھر، ملتان، لاہور، فیصل آباد، اسلام آباد، راولپنڈی، پشاور اور کوئٹہ کی صرافہ مارکیٹوں میں لین دین نئی قیمتوں کے ساتھ کیا جائے گا۔'}\n"
     ]
    }
   ],
   "source": [
    "with open('scraped-news.json', 'r', encoding='utf-8') as file:\n",
    "    info = json.load(file)\n",
    "\n",
    "# printing length\n",
    "print(len(info))\n",
    "\n",
    "# printing first dictionary\n",
    "print(info[0])"
   ]
  },
  {
   "cell_type": "markdown",
   "metadata": {},
   "source": [
    "### Iterating URL for detailed news and scraping the main news content"
   ]
  },
  {
   "cell_type": "code",
   "execution_count": 5,
   "metadata": {},
   "outputs": [],
   "source": [
    "for i,item in enumerate(info):\n",
    "    response = requests.post(item['url'])\n",
    "    if response.status_code == 200:\n",
    "        soup = BeautifulSoup(response.text, 'html.parser')\n",
    "        div = soup.find('div', class_='detail_txt urdu fs17 lh34 aj rtl')\n",
    "        \n",
    "        # Keeping the news details in the same dictionary\n",
    "        info[i]['detail'] = div.text.replace('\\n', ' ').replace('\\r', ' ').replace('   ',' ').replace('  ', ' ').strip()"
   ]
  },
  {
   "cell_type": "markdown",
   "metadata": {},
   "source": [
    "### Updating/Saving the information in the same JSON file"
   ]
  },
  {
   "cell_type": "code",
   "execution_count": 6,
   "metadata": {},
   "outputs": [],
   "source": [
    "with open('scraped-news.json', 'w', encoding='utf-8') as file:\n",
    "    json.dump(info, file, ensure_ascii=False, indent=1)"
   ]
  }
 ],
 "metadata": {
  "kernelspec": {
   "display_name": "Python 3",
   "language": "python",
   "name": "python3"
  },
  "language_info": {
   "codemirror_mode": {
    "name": "ipython",
    "version": 3
   },
   "file_extension": ".py",
   "mimetype": "text/x-python",
   "name": "python",
   "nbconvert_exporter": "python",
   "pygments_lexer": "ipython3",
   "version": "3.8.5"
  }
 },
 "nbformat": 4,
 "nbformat_minor": 4
}
